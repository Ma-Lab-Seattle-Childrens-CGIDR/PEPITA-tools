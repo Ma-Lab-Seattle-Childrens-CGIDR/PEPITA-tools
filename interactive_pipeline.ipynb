{
  "nbformat": 4,
  "nbformat_minor": 0,
  "metadata": {
    "colab": {
      "name": "ZF Pipeline.ipynb",
      "provenance": []
    },
    "kernelspec": {
      "name": "python3",
      "display_name": "Python 3"
    },
    "language_info": {
      "name": "python"
    }
  },
  "cells": [
    {
      "cell_type": "code",
      "execution_count": 2,
      "metadata": {
        "colab": {
          "base_uri": "https://localhost:8080/",
          "height": 373
        },
        "id": "-S7HU6xmgQfl",
        "outputId": "b6b74675-fa24-4cc1-cb7e-5807d824f8e3"
      },
      "outputs": [
        {
          "output_type": "error",
          "ename": "ModuleNotFoundError",
          "evalue": "ignored",
          "traceback": [
            "\u001b[0;31m---------------------------------------------------------------------------\u001b[0m",
            "\u001b[0;31mModuleNotFoundError\u001b[0m                       Traceback (most recent call last)",
            "\u001b[0;32m<ipython-input-2-e39a7141bb4e>\u001b[0m in \u001b[0;36m<module>\u001b[0;34m()\u001b[0m\n\u001b[1;32m      2\u001b[0m \u001b[0;32mimport\u001b[0m \u001b[0mos\u001b[0m\u001b[0;34m\u001b[0m\u001b[0;34m\u001b[0m\u001b[0m\n\u001b[1;32m      3\u001b[0m \u001b[0;34m\u001b[0m\u001b[0m\n\u001b[0;32m----> 4\u001b[0;31m \u001b[0;32mimport\u001b[0m \u001b[0mpipeline\u001b[0m\u001b[0;34m\u001b[0m\u001b[0;34m\u001b[0m\u001b[0m\n\u001b[0m\u001b[1;32m      5\u001b[0m \u001b[0;34m\u001b[0m\u001b[0m\n\u001b[1;32m      6\u001b[0m \u001b[0;31m# Common Parameters: Change these for every experiment\u001b[0m\u001b[0;34m\u001b[0m\u001b[0;34m\u001b[0m\u001b[0;34m\u001b[0m\u001b[0m\n",
            "\u001b[0;31mModuleNotFoundError\u001b[0m: No module named 'pipeline'",
            "",
            "\u001b[0;31m---------------------------------------------------------------------------\u001b[0;32m\nNOTE: If your import is failing due to a missing package, you can\nmanually install dependencies using either !pip or !apt.\n\nTo view examples of installing some common dependencies, click the\n\"Open Examples\" button below.\n\u001b[0;31m---------------------------------------------------------------------------\u001b[0m\n"
          ],
          "errorDetails": {
            "actions": [
              {
                "action": "open_url",
                "actionText": "Open Examples",
                "url": "/notebooks/snippets/importing_libraries.ipynb"
              }
            ]
          }
        }
      ],
      "source": [
        "import glob\n",
        "import os\n",
        "\n",
        "import pipeline\n",
        "\n",
        "# Common Parameters: Change these for every experiment\n",
        "\n",
        "CHECKERBOARD = True                                     # set to false if doing simple dose-response curve(s)\n",
        "CONVERSIONS = {                                         # fill in drug dose conversions used in this experiment\n",
        "    'NEO50': 'NEO 4.8μM',\n",
        "    'NEO99': 'NEO 24.2μM'\n",
        "}\n",
        "DATE = '2022-07-13'                                     # enter the date of the experiment, so files created have meaningful names\n",
        "FOLDER = '/content/drive/MyDrive/2022-07-13_NeoScreen'  # fill in which directory contains the images for this experiment\n",
        "\n",
        "# Uncommon Parameters: We tend to leave these the same, but modify if needed\n",
        "\n",
        "PLATE_CONTROL = 'Control 0μM'\n",
        "PLATE_POSITIVE_CONTROl = 'NEO99'\n",
        "PLATEFILE = FOLDER + '/plate-template-all.csv'\n",
        "\n",
        "# Generated Parameters: You probably don't need to change these, but you can\n",
        "\n",
        "chartfile = f'{FOLDER}/chart_{DATE}.png'\n",
        "imagefiles = glob.glob(f'*/*_CH1.tif', root_dir=FOLDER)\n",
        "\n",
        "#\n",
        "#\n",
        "#\n",
        "\n",
        "# Configure output to go in a helpful location\n",
        "\n",
        "config_file = '/content/drive/github/something/config-ext.ini'\n",
        "os.makedirs(f'{FOLDER}/log', exist_ok=True)\n",
        "\n",
        "with open(config_file, 'w') as file:\n",
        "    file.write('[Main]')\n",
        "    file.write(f'log_dir = {FOLDER}/lpg')\n",
        "\n",
        "# Go ahead and run the pipeline!\n",
        "\n",
        "pipeline.main(imagefiles, chartfile=chartfile, checkerboard=CHECKERBOARD,\n",
        "              conversions=CONVERSIONS, platefile=PLATEFILE,\n",
        "              plate_control=PLATE_CONTROL, plate_info=DATE,\n",
        "              plate_positive_control=PLATE_POSITIVE_CONTROl)"
      ]
    }
  ]
}