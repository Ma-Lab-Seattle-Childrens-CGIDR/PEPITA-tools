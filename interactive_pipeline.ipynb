{
  "nbformat": 4,
  "nbformat_minor": 0,
  "metadata": {
    "colab": {
      "name": "ZF Pipeline.ipynb",
      "provenance": []
    },
    "kernelspec": {
      "name": "python3",
      "display_name": "Python 3"
    },
    "language_info": {
      "name": "python"
    }
  },
  "cells": [
    {
      "cell_type": "markdown",
      "source": [
        "# Hello! Use the following procedure to run the zebrafish pipeline.\n",
        "\n",
        "First, we'll need to establish a connection to Google Drive, from which we'll read in the image data, and to which we'll write some logging data and charts.\n",
        "\n",
        "Run the next code block to start the connection to Google Drive, and follow whatever instructions pop up to complete the connection."
      ],
      "metadata": {
        "id": "FtHc8LGSvsXz"
      }
    },
    {
      "cell_type": "code",
      "execution_count": null,
      "metadata": {
        "id": "-S7HU6xmgQfl"
      },
      "outputs": [],
      "source": [
        "# Mount Google Drive\n",
        "\n",
        "from google.colab import drive\n",
        "drive.mount('/content/drive')"
      ]
    },
    {
      "cell_type": "markdown",
      "source": [
        "If the zebrafish images aren't stored in Google Drive yet, upload a directory containing all the images for the experiment, using the folder icon to the left.\n",
        "\n",
        "We will also need a CSV plate template indicating what condition each well represents -- *this is a very important piece*, providing important information on what the image data means; without it, we just have unlabeled images. An example template can be found in the github repo [here](https://raw.githubusercontent.com/ma-lab-cgidr/zebrafish-quantification/master/examples/plate-layout.csv). The location and name of the CSV file on Google Drive will be configured lower down."
      ],
      "metadata": {
        "id": "DnlQOke0RisX"
      }
    },
    {
      "cell_type": "markdown",
      "source": [
        "Next, we'll need to get the latest zebrafish pipeline code for this script to use. Run the next code block to download it from GitHub."
      ],
      "metadata": {
        "id": "tHTxiQ5hwsN2"
      }
    },
    {
      "cell_type": "code",
      "source": [
        "# Get GitHub repository\n",
        "\n",
        "from urllib.request import urlopen\n",
        "from zipfile import ZipFile\n",
        "\n",
        "repo_url = 'https://github.com/ma-lab-cgidr/zebrafish-quantification/archive/refs/heads/master.zip'\n",
        "with open('/tmp/repo.zip', 'wb') as zip_file:\n",
        "  response = urlopen(repo_url)\n",
        "  zip_file.write(response.read())\n",
        "\n",
        "with ZipFile('/tmp/repo.zip') as zip_file:\n",
        "  zip_file.extractall(path = '/tmp/')"
      ],
      "metadata": {
        "id": "wL22GpuxuuF_"
      },
      "execution_count": null,
      "outputs": []
    },
    {
      "cell_type": "markdown",
      "source": [
        "Next, we'll ensure that all the pipeline's dependencies are installed -- by default, they won't be. Once they're installed, python will need to be restarted to gain access to the new packages."
      ],
      "metadata": {
        "id": "Kv3Fhne8w3NW"
      }
    },
    {
      "cell_type": "code",
      "source": [
        "!pip install -r /tmp/zebrafish-quantification-master/requirements.txt"
      ],
      "metadata": {
        "id": "UjPXgw-kG4IO"
      },
      "execution_count": null,
      "outputs": []
    },
    {
      "cell_type": "markdown",
      "source": [
        "Ok, assuming the previous command completed successfully, all dependencies are now installed: restart the runtime (Ctrl+M; or, in the top left menu, Runtime > Restart runtime).\n",
        "\n",
        "Once that's complete, run the next code block to start importing packages to set up the pipeline. If it completes successfully, all dependencies are now properly in place."
      ],
      "metadata": {
        "id": "ToopgMQyIhuG"
      }
    },
    {
      "cell_type": "code",
      "source": [
        "import glob\n",
        "import os\n",
        "import sys\n",
        "\n",
        "sys.path.append('/tmp/zebrafish-quantification-master')\n",
        "\n",
        "import pipeline"
      ],
      "metadata": {
        "id": "N_1Wqu3eb1vi"
      },
      "execution_count": null,
      "outputs": []
    },
    {
      "cell_type": "markdown",
      "source": [
        "Next, we'll need to configure the some settings to match the experiment being analyzed. Edit the following code block so that all variables are correct; see the comments for guidance.\n",
        "\n",
        "Once everything looks good, run the code block."
      ],
      "metadata": {
        "id": "zy7_uCeJtn32"
      }
    },
    {
      "cell_type": "code",
      "source": [
        "# Common Parameters: Change these for every experiment\n",
        "\n",
        "CHECKERBOARD = True                                     # set to false if doing simple dose-response curve(s)\n",
        "CONVERSIONS = {                                         # fill in drug dose conversions used in this experiment\n",
        "    'NEO50': 'NEO 4.8μM',\n",
        "    'NEO99': 'NEO 24.2μM'\n",
        "}\n",
        "EXPERIMENT_DATE = '2022-07-13'                          # enter the date of the experiment, so files created have meaningful names\n",
        "FOLDER = '/content/drive/MyDrive/2022-07-13_NeoScreen'  # fill in which directory contains the images for this experiment\n",
        "\n",
        "# Uncommon Parameters: We tend to leave these the same, but modify if needed\n",
        "\n",
        "PLATE_CONTROL = 'Untreated 0μM'\n",
        "PLATE_POSITIVE_CONTROl = 'NEO99'\n",
        "PLATEFILE = FOLDER + '/plate-template-all.csv'\n",
        "\n",
        "# Generated Parameters: You probably don't need to change these, but you can\n",
        "\n",
        "chartfile = f'{FOLDER}/chart_{EXPERIMENT_DATE}.png'\n",
        "imagefiles = glob.glob(f'{FOLDER}/**/*_CH1.tif', recursive=True)"
      ],
      "metadata": {
        "id": "Df5EDZFCsSl2"
      },
      "execution_count": null,
      "outputs": []
    },
    {
      "cell_type": "markdown",
      "source": [
        "One more code block needs to run before we can execute the pipeline. This just finishes setup, taking into account the variables you may have modified above. Run the next code block to continue."
      ],
      "metadata": {
        "id": "7M_VDW6mx4Qz"
      }
    },
    {
      "cell_type": "code",
      "source": [
        "# Configure output to go in a helpful location\n",
        "\n",
        "config_file = '/tmp/zebrafish-quantification-master/config-ext.ini'\n",
        "\n",
        "for dir in ('.cache', 'dose_response', 'imageops'):\n",
        "  os.makedirs(f'{FOLDER}/log/{dir}', exist_ok=True)\n",
        "\n",
        "with open(config_file, 'w') as file:\n",
        "    file.write('[Main]\\n')\n",
        "    file.write(f'log_dir = {FOLDER}/log\\n')\n",
        "\n",
        "# Look the other way... this is super janky. But it's needed atm for files to\n",
        "# end up in the proper location\n",
        "sys.argv[0] = '/tmp/zebrafish-quantification-master/pipeline.py'"
      ],
      "metadata": {
        "id": "ffAkIDqHgfIZ"
      },
      "execution_count": null,
      "outputs": []
    },
    {
      "cell_type": "markdown",
      "source": [
        "Now that setup is complete, we should be able to run the analysis pipeline. Run the following code block -- this one may take a few minutes to complete."
      ],
      "metadata": {
        "id": "0LgJRrT7yj85"
      }
    },
    {
      "cell_type": "code",
      "source": [
        "# Go ahead and run the pipeline!\n",
        "\n",
        "debug=1 # This slows things down a bit, but also makes for easier investigation\n",
        "#         of problematic datapoints. Decrease to 0 for faster execution.\n",
        "#         Increase to 2 or more at your own risk.\n",
        "\n",
        "pipeline.main(imagefiles, chartfile=chartfile, checkerboard=CHECKERBOARD,\n",
        "              conversions=CONVERSIONS, debug=debug, platefile=PLATEFILE,\n",
        "              plate_control=[PLATE_CONTROL], plate_info=EXPERIMENT_DATE,\n",
        "              plate_positive_control=[PLATE_POSITIVE_CONTROl],\n",
        "              absolute_chart=True)"
      ],
      "metadata": {
        "id": "AeO-I5mcsdNo"
      },
      "execution_count": null,
      "outputs": []
    },
    {
      "cell_type": "markdown",
      "source": [
        "Rerun the pipeline as needed after making tweaks -- either to the pipeline execution itself (changing variables above), or by adding or modifying input data (mask images can be provided -- put them next to their corresponding zebrafish image, replacing `_CH#.tif` in the filename with `_mask.tif`).\n",
        "\n",
        "Whether or not a rerun is warranted, or if the results are high quality in general, is a tricky question. Some things to look at to evaluate the quality of a run:\n",
        "- How many missing squares are there in the `{EXPERIMENT_DATE}_96-well_schematic_heatmap_absolute_###########.png` chart?<sup>1</sup>\n",
        "- What values do the control wells have in that same chart?<sup>2</sup>\n",
        "- How tight are the groups clustering in the `chart_{EXPERIMENT_DATE}.png` chart?<sup>3</sup>\n",
        "- How many major outliers are there in that same chart?<sup>4</sup>\n",
        "- Looking at the axes in the `*checkerboard_###########.png` chart: Are the dose responses under single drug conditions decreasing monotonically (or something close)? Back-and-forthing responses, or flat ones for known ototoxins, usually make results hard to interpret.<sup>5</sup>\n",
        "\n",
        "Debug images (if `debug` > 0 in the previous code block) can be found in the `log/` folder, inside the folder you uploaded.\n",
        "\n",
        "If mask images have been provided to point the pipeline in a better direction, rerun the analysis by executing the previous code block again.\n",
        "\n",
        "----\n",
        "\n",
        "1: Missing squares indicate fish excluded from the analysis -- more than, say, 1-3 missing indicates a systematic problem with the plate: either several dead or missing fish, or some difference with the images making it hard for the pipeline to properly locate the fish. It's often worth looking into each missing square, and potentially adding a mask to help the pipeline know where the fish is.\n",
        "\n",
        "2: Untreated controls should ideally have among the highest scores in the plate and cluster fairly closely with each other (a range of 0-5 is ideal, 5-15 is acceptible, 15-25 is a bit disappointing, >25 is a problem). Positive controls should have a value near 0. Wells with values outside these expectations should be looked at individually.\n",
        "\n",
        "3: Wide clustering is generally just an indicator of poorer quality results, but doesn't necessarily mean the results should be discarded.\n",
        "\n",
        "4: Major outliers are often a sign of poor image segmenting, requiring a manual mask, similar to (1).\n",
        "\n",
        "5: This is generally a result of something gone wrong in the course of the experiment, and can't really be fixed on the analysis end."
      ],
      "metadata": {
        "id": "U2w4G18BWWfg"
      }
    }
  ]
}