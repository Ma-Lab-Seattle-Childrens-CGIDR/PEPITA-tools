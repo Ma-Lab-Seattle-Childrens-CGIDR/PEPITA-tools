{
  "nbformat": 4,
  "nbformat_minor": 0,
  "metadata": {
    "colab": {
      "name": "ZF Pipeline.ipynb",
      "provenance": []
    },
    "kernelspec": {
      "name": "python3",
      "display_name": "Python 3"
    },
    "language_info": {
      "name": "python"
    }
  },
  "cells": [
    {
      "cell_type": "code",
      "execution_count": null,
      "metadata": {
        "id": "-S7HU6xmgQfl"
      },
      "outputs": [],
      "source": [
        "import glob\n",
        "import os\n",
        "\n",
        "# Mount Google Drive\n",
        "\n",
        "from google.colab import drive\n",
        "drive.mount('/content/drive')"
      ]
    },
    {
      "cell_type": "code",
      "source": [
        "# Get GitHub repository\n",
        "\n",
        "import sys\n",
        "from urllib.request import urlopen\n",
        "from zipfile import ZipFile\n",
        "\n",
        "repo_url = 'https://github.com/ma-lab-cgidr/zebrafish-quantification/archive/refs/heads/master.zip'\n",
        "with open('/tmp/repo.zip', 'wb') as zip:\n",
        "  response = urlopen(repo_url)\n",
        "  zip.write(response.read())\n",
        "\n",
        "with ZipFile('/tmp/repo.zip') as zip:\n",
        "  zip.extractall(path = '/tmp/')\n",
        "\n",
        "sys.path.append('/tmp/zebrafish-quantification-master')\n",
        "\n",
        "import pipeline"
      ],
      "metadata": {
        "id": "wL22GpuxuuF_"
      },
      "execution_count": 7,
      "outputs": []
    },
    {
      "cell_type": "code",
      "source": [
        "# Common Parameters: Change these for every experiment\n",
        "\n",
        "CHECKERBOARD = True                                     # set to false if doing simple dose-response curve(s)\n",
        "CONVERSIONS = {                                         # fill in drug dose conversions used in this experiment\n",
        "    'NEO50': 'NEO 4.8μM',\n",
        "    'NEO99': 'NEO 24.2μM'\n",
        "}\n",
        "DATE = '2022-07-13'                                     # enter the date of the experiment, so files created have meaningful names\n",
        "FOLDER = '/content/drive/MyDrive/2022-07-13_NeoScreen'  # fill in which directory contains the images for this experiment\n",
        "\n",
        "# Uncommon Parameters: We tend to leave these the same, but modify if needed\n",
        "\n",
        "PLATE_CONTROL = 'Control 0μM'\n",
        "PLATE_POSITIVE_CONTROl = 'NEO99'\n",
        "PLATEFILE = FOLDER + '/plate-template-all.csv'\n",
        "\n",
        "# Generated Parameters: You probably don't need to change these, but you can\n",
        "\n",
        "chartfile = f'{FOLDER}/chart_{DATE}.png'\n",
        "imagefiles = glob.glob(f'{FOLDER}/*/*_CH1.tif')"
      ],
      "metadata": {
        "id": "Df5EDZFCsSl2"
      },
      "execution_count": 8,
      "outputs": []
    },
    {
      "cell_type": "code",
      "source": [
        "# Configure output to go in a helpful location\n",
        "\n",
        "config_file = '/tmp/zebrafish-quantification-master/config-ext.ini'\n",
        "os.makedirs(f'{FOLDER}/log', exist_ok=True)\n",
        "\n",
        "with open(config_file, 'w') as file:\n",
        "    file.write('[Main]')\n",
        "    file.write(f'log_dir = {FOLDER}/lpg')\n",
        "\n",
        "# Go ahead and run the pipeline!\n",
        "\n",
        "pipeline.main(imagefiles, chartfile=chartfile, checkerboard=CHECKERBOARD,\n",
        "              conversions=CONVERSIONS, platefile=PLATEFILE,\n",
        "              plate_control=PLATE_CONTROL, plate_info=DATE,\n",
        "              plate_positive_control=PLATE_POSITIVE_CONTROl)"
      ],
      "metadata": {
        "id": "AeO-I5mcsdNo"
      },
      "execution_count": null,
      "outputs": []
    }
  ]
}